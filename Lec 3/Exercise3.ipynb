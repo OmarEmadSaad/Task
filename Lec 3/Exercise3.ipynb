{
 "cells": [
  {
   "cell_type": "markdown",
   "id": "ba4d8c70-b602-45f4-983d-9761ec42e25e",
   "metadata": {},
   "source": [
    "## Exercise No.3"
   ]
  },
  {
   "cell_type": "markdown",
   "id": "2064f43f-0df3-44a8-a16e-fac5b5515ba9",
   "metadata": {},
   "source": [
    "**1-write program for circle class. This class has the following:**\n",
    "* Attribute: its name is pi with value 3.14\n",
    "* During the object create the raduis attribute is asigned by the raduis of circle\n",
    "* Has two methods to calculate the Area and Circumference of circle"
   ]
  },
  {
   "cell_type": "markdown",
   "id": "fd47b546-5a34-4693-a188-e4f5fb43ef55",
   "metadata": {},
   "source": [
    "**2. Write a program for a Rectangle class.**\n",
    "\n",
    "Attributes: length and width (set through constructor)\n",
    "\n",
    "Methods:\n",
    "\n",
    "area() – returns the area\n",
    "\n",
    "perimeter() – returns the perimeter"
   ]
  },
  {
   "cell_type": "markdown",
   "id": "f7831422-c199-4cfd-88a6-b989997b4911",
   "metadata": {},
   "source": [
    "**3-Write a program for an Employee class using class method.**\n",
    "Attributes: name and salary\n",
    "\n",
    "Class attribute: company_name\n",
    "\n",
    "Use a class method to change the company_name for all employees"
   ]
  },
  {
   "cell_type": "markdown",
   "id": "354fa199-a3c8-4ea6-ae2e-79ed45c7f0bc",
   "metadata": {},
   "source": [
    "**4- Create a Shape class and two child classes Square and Circle.**\n",
    "\n",
    "Use polymorphism to define a method area()\n",
    "\n",
    "Use a loop to calculate area for both shapes using a common function"
   ]
  },
  {
   "cell_type": "markdown",
   "id": "ff656a62-e1e0-4855-8aab-65c6af6f60c5",
   "metadata": {},
   "source": [
    "**5-Create a 1D NumPy array of numbers from 0 to 9**"
   ]
  },
  {
   "cell_type": "markdown",
   "id": "e50cfc0f-df3a-41a0-ba8c-447917bea0f1",
   "metadata": {},
   "source": [
    "**6-Create a 4x4 NumPy array of all True values**"
   ]
  },
  {
   "cell_type": "markdown",
   "id": "561875e4-753d-4cc9-9059-4ccacc377500",
   "metadata": {},
   "source": [
    "**7-Create an array of 10 random floats between 0 and 1**"
   ]
  },
  {
   "cell_type": "markdown",
   "id": "65aeb073-35e1-42b6-afaa-41cb2365fb61",
   "metadata": {},
   "source": [
    "**8-Create a NumPy array of even numbers from 2 to 20**"
   ]
  },
  {
   "cell_type": "markdown",
   "id": "3d9bd0c4-c80e-41f4-a553-8a2ba05ac7fc",
   "metadata": {},
   "source": [
    "**9-Get the maximum, minimum, and mean of an random array**"
   ]
  },
  {
   "cell_type": "markdown",
   "id": "965439c7-cd2d-491f-820e-e154857ec595",
   "metadata": {},
   "source": [
    "**10-Flatten a 2D array to 1D**"
   ]
  },
  {
   "cell_type": "code",
   "execution_count": null,
   "id": "9152d3b0-a1b3-4086-9028-bd65fec715e9",
   "metadata": {},
   "outputs": [],
   "source": [
    "arr2d = np.array([[1, 2], [3, 4]])"
   ]
  }
 ],
 "metadata": {
  "kernelspec": {
   "display_name": "Python 3 (ipykernel)",
   "language": "python",
   "name": "python3"
  },
  "language_info": {
   "codemirror_mode": {
    "name": "ipython",
    "version": 3
   },
   "file_extension": ".py",
   "mimetype": "text/x-python",
   "name": "python",
   "nbconvert_exporter": "python",
   "pygments_lexer": "ipython3",
   "version": "3.12.4"
  }
 },
 "nbformat": 4,
 "nbformat_minor": 5
}
