{
 "cells": [
  {
   "cell_type": "markdown",
   "id": "ba4d8c70-b602-45f4-983d-9761ec42e25e",
   "metadata": {},
   "source": [
    "## Exercise No.3"
   ]
  },
  {
   "cell_type": "markdown",
   "id": "2064f43f-0df3-44a8-a16e-fac5b5515ba9",
   "metadata": {},
   "source": [
    "**1-write program for circle class. This class has the following:**\n",
    "* Attribute: its name is pi with value 3.14\n",
    "* During the object create the raduis attribute is asigned by the raduis of circle\n",
    "* Has two methods to calculate the Area and Circumference of circle"
   ]
  },
  {
   "cell_type": "code",
   "execution_count": null,
   "id": "d8d2f2f9-b75c-4c5c-b45a-e4caf6eef0ad",
   "metadata": {},
   "outputs": [],
   "source": [
    "class Circle:\n",
    "    pi = 3.14\n",
    "\n",
    "    def __init__(self, radius):\n",
    "        self.radius = radius\n",
    "\n",
    "    def area(self):\n",
    "        return Circle.pi * self.radius ** 2\n",
    "\n",
    "    def circumference(self):\n",
    "        return 2 * Circle.pi * self.radius\n",
    "\n",
    "c = Circle(5)\n",
    "print(\"Area:\", c.area())\n",
    "print(\"Circumference:\", c.circumference())\n"
   ]
  },
  {
   "cell_type": "markdown",
   "id": "fd47b546-5a34-4693-a188-e4f5fb43ef55",
   "metadata": {},
   "source": [
    "**2. Write a program for a Rectangle class.**\n",
    "\n",
    "Attributes: length and width (set through constructor)\n",
    "\n",
    "Methods:\n",
    "\n",
    "area() – returns the area\n",
    "\n",
    "perimeter() – returns the perimeter"
   ]
  },
  {
   "cell_type": "code",
   "execution_count": null,
   "id": "044db705-bf68-4f9a-9caa-2a20761d5001",
   "metadata": {},
   "outputs": [],
   "source": [
    "class Rectangle:\n",
    "    def __init__(self, length, width):\n",
    "        self.length = length\n",
    "        self.width = width\n",
    "\n",
    "    def area(self):\n",
    "        return self.length * self.width\n",
    "\n",
    "    def perimeter(self):\n",
    "        return 2 * (self.length + self.width)\n",
    "\n",
    "r = Rectangle(10, 5)\n",
    "print(\"Area:\", r.area())          \n",
    "print(\"Perimeter:\", r.perimeter())  \n"
   ]
  },
  {
   "cell_type": "markdown",
   "id": "f7831422-c199-4cfd-88a6-b989997b4911",
   "metadata": {},
   "source": [
    "**3-Write a program for an Employee class using class method.**\n",
    "Attributes: name and salary\n",
    "\n",
    "Class attribute: company_name\n",
    "\n",
    "Use a class method to change the company_name for all employees"
   ]
  },
  {
   "cell_type": "code",
   "execution_count": null,
   "id": "8c81ce92-0645-4cf0-a4b6-23927f9eebba",
   "metadata": {},
   "outputs": [],
   "source": [
    "class Employee:\n",
    "    company_name = \"Default Company\"\n",
    "\n",
    "    def __init__(self, name, salary):\n",
    "        self.name = name\n",
    "        self.salary = salary\n",
    "\n",
    "    @classmethod\n",
    "    def change_company(cls, new_company_name):\n",
    "        cls.company_name = new_company_name\n",
    "\n",
    "    def display_employee_info(self):\n",
    "        return f\"Name: {self.name}, Salary: {self.salary}, Company: {self.company_name}\"\n",
    "\n",
    "emp1 = Employee(\"Alice\", 50000)\n",
    "emp2 = Employee(\"Bob\", 60000)\n",
    "\n",
    "print(emp1.display_employee_info())  \n",
    "print(emp2.display_employee_info()) \n",
    "\n",
    "Employee.change_company(\"New Tech Company\")\n",
    "\n",
    "print(emp1.display_employee_info())  \n",
    "print(emp2.display_employee_info()) \n"
   ]
  },
  {
   "cell_type": "markdown",
   "id": "354fa199-a3c8-4ea6-ae2e-79ed45c7f0bc",
   "metadata": {},
   "source": [
    "**4- Create a Shape class and two child classes Square and Circle.**\n",
    "\n",
    "Use polymorphism to define a method area()\n",
    "\n",
    "Use a loop to calculate area for both shapes using a common function"
   ]
  },
  {
   "cell_type": "code",
   "execution_count": null,
   "id": "7ea12434-1020-448c-bd91-b43a44db0e54",
   "metadata": {},
   "outputs": [],
   "source": [
    "import math\n",
    "\n",
    "class Shape:\n",
    "    def area(self):\n",
    "        pass \n",
    "\n",
    "class Square(Shape):\n",
    "    def __init__(self, side):\n",
    "        self.side = side\n",
    "\n",
    "    def area(self):\n",
    "        return self.side ** 2\n",
    "\n",
    "class Circle(Shape):\n",
    "    def __init__(self, radius):\n",
    "        self.radius = radius\n",
    "\n",
    "    def area(self):\n",
    "        return math.pi * self.radius ** 2\n",
    "\n",
    "shapes = [Square(4), Circle(3)]\n",
    "\n",
    "for shape in shapes:\n",
    "    print(f\"Area of {shape.__class__.__name__}: {shape.area()}\")\n"
   ]
  },
  {
   "cell_type": "markdown",
   "id": "ff656a62-e1e0-4855-8aab-65c6af6f60c5",
   "metadata": {},
   "source": [
    "**5-Create a 1D NumPy array of numbers from 0 to 9**"
   ]
  },
  {
   "cell_type": "code",
   "execution_count": null,
   "id": "962ae065-cf1b-4fb5-b617-cfd855285c0b",
   "metadata": {},
   "outputs": [],
   "source": [
    "import numpy as np\n",
    "\n",
    "array_1d = np.arange(10)\n",
    "\n",
    "print(array_1d)"
   ]
  },
  {
   "cell_type": "markdown",
   "id": "e50cfc0f-df3a-41a0-ba8c-447917bea0f1",
   "metadata": {},
   "source": [
    "**6-Create a 4x4 NumPy array of all True values**"
   ]
  },
  {
   "cell_type": "code",
   "execution_count": null,
   "id": "c6e819d5-bcf9-4142-b11d-9ced6bf5c955",
   "metadata": {},
   "outputs": [],
   "source": [
    "import numpy as np\n",
    "\n",
    "array_4x4 = np.full((4, 4), True)\n",
    "\n",
    "print(array_4x4)"
   ]
  },
  {
   "cell_type": "markdown",
   "id": "561875e4-753d-4cc9-9059-4ccacc377500",
   "metadata": {},
   "source": [
    "**7-Create an array of 10 random floats between 0 and 1**"
   ]
  },
  {
   "cell_type": "code",
   "execution_count": null,
   "id": "8d68fcf6-5bfb-4ebb-a467-c4d6033a099d",
   "metadata": {},
   "outputs": [],
   "source": [
    "import numpy as np\n",
    "\n",
    "random_floats = np.random.random(10)\n",
    "\n",
    "print(random_floats)"
   ]
  },
  {
   "cell_type": "markdown",
   "id": "65aeb073-35e1-42b6-afaa-41cb2365fb61",
   "metadata": {},
   "source": [
    "**8-Create a NumPy array of even numbers from 2 to 20**"
   ]
  },
  {
   "cell_type": "code",
   "execution_count": null,
   "id": "a2185ccd-97cc-450d-a61d-6db05bed3462",
   "metadata": {},
   "outputs": [],
   "source": [
    "import numpy as np\n",
    "even_array = np.arange(2, 21, 2)\n",
    "print(even_array)"
   ]
  },
  {
   "cell_type": "markdown",
   "id": "3d9bd0c4-c80e-41f4-a553-8a2ba05ac7fc",
   "metadata": {},
   "source": [
    "**9-Get the maximum, minimum, and mean of an random array**"
   ]
  },
  {
   "cell_type": "code",
   "execution_count": null,
   "id": "40771373-c9f2-4be6-b31a-b9b510c72cee",
   "metadata": {},
   "outputs": [],
   "source": [
    "import numpy as np\n",
    "\n",
    "random_array = np.random.randint(1, 101, size=10)\n",
    "\n",
    "max_value = np.max(random_array)\n",
    "min_value = np.min(random_array)\n",
    "mean_value = np.mean(random_array)\n",
    "\n",
    "print(\"Random Array:\", random_array)\n",
    "print(\"Maximum:\", max_value)\n",
    "print(\"Minimum:\", min_value)\n",
    "print(\"Mean:\", mean_value)"
   ]
  },
  {
   "cell_type": "markdown",
   "id": "965439c7-cd2d-491f-820e-e154857ec595",
   "metadata": {},
   "source": [
    "**10-Flatten a 2D array to 1D**"
   ]
  },
  {
   "cell_type": "code",
   "execution_count": null,
   "id": "9152d3b0-a1b3-4086-9028-bd65fec715e9",
   "metadata": {},
   "outputs": [],
   "source": [
    "import numpy as np\n",
    "\n",
    "arr2d = np.array([[1, 2], [3, 4]])\n",
    "\n",
    "arr1d = arr2d.flatten()\n",
    "\n",
    "print(\"2D Array:\\n\", arr2d)\n",
    "print(\"1D Array:\", arr1d)"
   ]
  }
 ],
 "metadata": {
  "kernelspec": {
   "display_name": "Python 3 (ipykernel)",
   "language": "python",
   "name": "python3"
  },
  "language_info": {
   "codemirror_mode": {
    "name": "ipython",
    "version": 3
   },
   "file_extension": ".py",
   "mimetype": "text/x-python",
   "name": "python",
   "nbconvert_exporter": "python",
   "pygments_lexer": "ipython3",
   "version": "3.12.4"
  }
 },
 "nbformat": 4,
 "nbformat_minor": 5
}
